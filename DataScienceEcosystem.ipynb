{
 "cells": [
  {
   "cell_type": "markdown",
   "id": "420a529a-a954-4d00-95b3-39bdcf984c7b",
   "metadata": {},
   "source": [
    "# Data Science Tools and Ecosystem\n"
   ]
  },
  {
   "cell_type": "markdown",
   "id": "f4383ef8-f6e2-4a1f-913c-1b20f8cba36b",
   "metadata": {},
   "source": [
    "# Data Science Tools and Ecosystem\n"
   ]
  },
  {
   "cell_type": "markdown",
   "id": "ed0c02a7-c84d-4ac2-9b77-96a16cb1b005",
   "metadata": {},
   "source": [
    "In this notebook, Data Science Tools and Ecosystem are summarized.\n"
   ]
  },
  {
   "cell_type": "markdown",
   "id": "0db0c6af-99b4-4e01-b66e-4cbe3d2c79d4",
   "metadata": {},
   "source": [
    "In this notebook, Data Science Tools and Ecosystem are summarized.\n"
   ]
  },
  {
   "cell_type": "markdown",
   "id": "dd4a8fea-2db7-4d8a-962a-6461a3d7ff1f",
   "metadata": {},
   "source": [
    "__Objectives:__\n",
    "- List popular languages for Data Science\n",
    "- Commonly used libraries by Data Scientist\n",
    "- Examples of evaluating arithmetic expressions"
   ]
  },
  {
   "cell_type": "markdown",
   "id": "ea3287e0-e695-4460-8498-56206ecf38c8",
   "metadata": {},
   "source": [
    "__Objectives:__\n",
    "- List popular languages for Data Science\n",
    "- Commonly used libraries by Data Scientist\n",
    "- Examples of evaluating arithmetic expressions"
   ]
  },
  {
   "cell_type": "markdown",
   "id": "dac43a87-cc59-4c71-8dd9-7934028b9d08",
   "metadata": {},
   "source": [
    "Some of the popular languages that Data Scientists use are:\n",
    "1. R\n",
    "2. Python\n",
    "3. SQL"
   ]
  },
  {
   "cell_type": "markdown",
   "id": "24ca6a4b-5587-4f49-ac82-5fc72a483b1e",
   "metadata": {},
   "source": [
    "Some of the popular languages that Data Scientists use are:\n",
    "1. R\n",
    "2. Python\n",
    "3. SQL"
   ]
  },
  {
   "cell_type": "markdown",
   "id": "fa4ce7c5-f706-48fc-9248-34fac6ac0d85",
   "metadata": {},
   "source": [
    "Some of the commonly used libraries used by Data Scientists include:\n",
    "1. Tidyverse\n",
    "2. ggplot2\n",
    "3. pandas"
   ]
  },
  {
   "cell_type": "markdown",
   "id": "db2be4b8-0da4-454b-946f-d050855d5618",
   "metadata": {},
   "source": [
    "Some of the commonly used libraries used by Data Scientists include:\n",
    "1. Tidyverse\n",
    "2. ggplot2\n",
    "3. pandas"
   ]
  },
  {
   "cell_type": "markdown",
   "id": "a09bff06-8361-49eb-81ad-deda1d16e8c6",
   "metadata": {},
   "source": [
    " | Data Science Tools |\n",
    "|--------------------|\n",
    "| Jupyter Notebook |\n",
    "| RStudio |\n",
    "|Github |"
   ]
  },
  {
   "cell_type": "markdown",
   "id": "2aa9fa53-754c-4f47-9cc8-fa89b775abe9",
   "metadata": {},
   "source": [
    " | Data Science Tools |\n",
    "|--------------------|\n",
    "| Jupyter Notebook |\n",
    "| RStudio |\n",
    "|Github |"
   ]
  },
  {
   "cell_type": "markdown",
   "id": "cd53a07a-a52c-4684-b5d6-e2eb4911eb3b",
   "metadata": {},
   "source": [
    "### Below are a few examples of evaluating arithmetic expressions in Python"
   ]
  },
  {
   "cell_type": "markdown",
   "id": "85f4d243-9913-4dc6-8fc7-074d65303bf8",
   "metadata": {},
   "source": [
    "### Below are a few examples of evaluating arithmetic expressions in Python"
   ]
  },
  {
   "cell_type": "code",
   "execution_count": 3,
   "id": "bdfcefb8-466e-45b4-8e3f-5cbd4ec19480",
   "metadata": {},
   "outputs": [
    {
     "data": {
      "text/plain": [
       "17"
      ]
     },
     "execution_count": 3,
     "metadata": {},
     "output_type": "execute_result"
    }
   ],
   "source": [
    "# This a simple arithmetic expression to mutiply then add integers \n",
    "(3*4)+5\n"
   ]
  },
  {
   "cell_type": "code",
   "execution_count": 4,
   "id": "c51e6abc-bafb-4ea4-90f3-20efc575c014",
   "metadata": {},
   "outputs": [
    {
     "data": {
      "text/plain": [
       "3.3333333333333335"
      ]
     },
     "execution_count": 4,
     "metadata": {},
     "output_type": "execute_result"
    }
   ],
   "source": [
    "# This will convert 200 minutes to hours by diving by 60\n",
    "\n",
    "200/60\n"
   ]
  },
  {
   "cell_type": "markdown",
   "id": "0418bd14-df20-407d-8dd0-8f2e6c05f5a2",
   "metadata": {},
   "source": [
    "## Author:\n",
    "Christy S"
   ]
  },
  {
   "cell_type": "markdown",
   "id": "b3792539-494e-42e1-9c73-3f4a5b045ecb",
   "metadata": {},
   "source": [
    "## Author:\n",
    "Christy S"
   ]
  }
 ],
 "metadata": {
  "kernelspec": {
   "display_name": "Python 3 (ipykernel)",
   "language": "python",
   "name": "python3"
  },
  "language_info": {
   "codemirror_mode": {
    "name": "ipython",
    "version": 3
   },
   "file_extension": ".py",
   "mimetype": "text/x-python",
   "name": "python",
   "nbconvert_exporter": "python",
   "pygments_lexer": "ipython3",
   "version": "3.12.5"
  }
 },
 "nbformat": 4,
 "nbformat_minor": 5
}
